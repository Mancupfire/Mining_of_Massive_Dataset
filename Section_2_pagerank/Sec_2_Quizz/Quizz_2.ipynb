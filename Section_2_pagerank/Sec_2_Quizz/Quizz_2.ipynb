{
 "cells": [
  {
   "cell_type": "markdown",
   "metadata": {},
   "source": [
    "Exercise 2: Suppose we compute PageRank with a β of 0.7, and we introduce the additional constraint that the sum of the PageRanks of the three pages must be 3, to handle the problem that otherwise any multiple of a solution will also be a solution. Compute the PageRanks a, b, and c of the three pages A, B, and C,\n",
    "respectively. Then, identify from the list below, the true statement."
   ]
  },
  {
   "cell_type": "markdown",
   "metadata": {},
   "source": [
    "![Alt text](Picture_2.png)"
   ]
  },
  {
   "cell_type": "code",
   "execution_count": 3,
   "metadata": {},
   "outputs": [
    {
     "name": "stdout",
     "output_type": "stream",
     "text": [
      "[[0.3  ]\n",
      " [0.405]\n",
      " [2.295]]\n"
     ]
    }
   ],
   "source": [
    "import numpy as np\n",
    "\n",
    "m1  = np.matrix([[0,0,0], [0.5,0,0], [0.5,1,1]])\n",
    "beta = 0.7\n",
    "\n",
    "def operate(r):\n",
    "    return beta * m1 * r + np.matrix([0.1, 0.1, 0.1]).T\n",
    "\n",
    "r = np.matrix([1.0/3, 1.0/3, 1.0/3]).T\n",
    "\n",
    "for i in range(1000):\n",
    "    r = operate(r)\n",
    "\n",
    "print(str(r*3))"
   ]
  }
 ],
 "metadata": {
  "kernelspec": {
   "display_name": "Python 3",
   "language": "python",
   "name": "python3"
  },
  "language_info": {
   "codemirror_mode": {
    "name": "ipython",
    "version": 3
   },
   "file_extension": ".py",
   "mimetype": "text/x-python",
   "name": "python",
   "nbconvert_exporter": "python",
   "pygments_lexer": "ipython3",
   "version": "3.12.4"
  }
 },
 "nbformat": 4,
 "nbformat_minor": 2
}
