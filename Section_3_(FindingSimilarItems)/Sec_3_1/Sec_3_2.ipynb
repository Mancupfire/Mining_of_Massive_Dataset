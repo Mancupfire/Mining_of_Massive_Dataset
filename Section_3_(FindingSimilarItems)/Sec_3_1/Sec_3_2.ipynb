{
 "cells": [
  {
   "cell_type": "code",
   "execution_count": 3,
   "metadata": {},
   "outputs": [],
   "source": [
    "from collections import Counter\n",
    "\n",
    "a = [1,1,1,2]\n",
    "b = [1,1,2,2,3]\n",
    "c = [1,2,3,4]"
   ]
  },
  {
   "cell_type": "code",
   "execution_count": 5,
   "metadata": {},
   "outputs": [],
   "source": [
    "def jaccard_bag_similarity(bag_a,bag_b):\n",
    "    countA = Counter(bag_a)\n",
    "    countB = Counter(bag_b)\n",
    "\n",
    "    intersection = sum(min(countA[key],countB[key]) for key in countA.keys() & countB.keys())\n",
    "\n",
    "    union = sum(max(countA[key],countB[key]) for key in countA.keys() | countB.keys())\n",
    "\n",
    "    return intersection/union\n",
    "\n",
    "similarA_B = jaccard_bag_similarity(a,b)\n",
    "similarA_C = jaccard_bag_similarity(a,c)\n",
    "similarB_C = jaccard_bag_similarity(b,c)"
   ]
  },
  {
   "cell_type": "code",
   "execution_count": 8,
   "metadata": {},
   "outputs": [
    {
     "name": "stdout",
     "output_type": "stream",
     "text": [
      "0.5\n",
      "0.3333333333333333\n",
      "0.5\n"
     ]
    }
   ],
   "source": [
    "print(similarA_B)\n",
    "print(similarA_C)\n",
    "print(similarB_C)"
   ]
  },
  {
   "cell_type": "code",
   "execution_count": null,
   "metadata": {},
   "outputs": [],
   "source": []
  }
 ],
 "metadata": {
  "kernelspec": {
   "display_name": "Python 3",
   "language": "python",
   "name": "python3"
  },
  "language_info": {
   "codemirror_mode": {
    "name": "ipython",
    "version": 3
   },
   "file_extension": ".py",
   "mimetype": "text/x-python",
   "name": "python",
   "nbconvert_exporter": "python",
   "pygments_lexer": "ipython3",
   "version": "3.12.4"
  }
 },
 "nbformat": 4,
 "nbformat_minor": 2
}
