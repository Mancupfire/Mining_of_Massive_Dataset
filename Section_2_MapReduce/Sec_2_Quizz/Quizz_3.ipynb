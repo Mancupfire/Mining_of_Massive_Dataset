{
 "cells": [
  {
   "cell_type": "code",
   "execution_count": 8,
   "metadata": {},
   "outputs": [
    {
     "name": "stdout",
     "output_type": "stream",
     "text": [
      "[[0.22786115]\n",
      " [0.14684099]\n",
      " [0.20924841]]\n"
     ]
    }
   ],
   "source": [
    "import numpy as np\n",
    "\n",
    "m1 = np.matrix([[0,0,1], [0.5,0,0], [0.5,0.5,0]])\n",
    "beta = 0.85\n",
    "\n",
    "def operate(r):\n",
    "    return beta * m1 * r + np.matrix([0.05,0.05,0.05]).T\n",
    "\n",
    "r = np.matrix([1.0/3,1.0/3,1.0/3]).T\n",
    "\n",
    "for i in range(1000):\n",
    "    r = operate(r)\n",
    "\n",
    "print(r)"
   ]
  },
  {
   "cell_type": "code",
   "execution_count": 9,
   "metadata": {},
   "outputs": [
    {
     "name": "stdout",
     "output_type": "stream",
     "text": [
      "[[1.1241064]]\n",
      "[[1.06826818]]\n",
      "[[1.31132865]]\n",
      "[[1.1241064]]\n"
     ]
    }
   ],
   "source": [
    "a = r[0] * 3\n",
    "b = r[1] * 3\n",
    "c = r[2] * 3\n",
    "\n",
    "print(a + b)\n",
    "print(b + c)\n",
    "print(c + a)\n",
    "print(a + b)\n",
    "\n"
   ]
  },
  {
   "cell_type": "code",
   "execution_count": null,
   "metadata": {},
   "outputs": [],
   "source": []
  },
  {
   "cell_type": "code",
   "execution_count": null,
   "metadata": {},
   "outputs": [],
   "source": []
  }
 ],
 "metadata": {
  "kernelspec": {
   "display_name": "Python 3",
   "language": "python",
   "name": "python3"
  },
  "language_info": {
   "codemirror_mode": {
    "name": "ipython",
    "version": 3
   },
   "file_extension": ".py",
   "mimetype": "text/x-python",
   "name": "python",
   "nbconvert_exporter": "python",
   "pygments_lexer": "ipython3",
   "version": "3.12.4"
  }
 },
 "nbformat": 4,
 "nbformat_minor": 2
}
