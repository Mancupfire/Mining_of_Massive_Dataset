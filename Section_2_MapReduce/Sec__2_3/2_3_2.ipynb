{
 "cells": [
  {
   "cell_type": "code",
   "execution_count": 9,
   "metadata": {},
   "outputs": [],
   "source": [
    "def mapper(_, line):\n",
    "    parts = line.strip().split()\n",
    "    if parts[0] == \"M\":  # Matrix Entry\n",
    "        _, i, j, value = parts\n",
    "        yield (int(i), (\"M\", int(j), float(value)))\n",
    "    elif parts[0] == \"V\":  # Vector Entry\n",
    "        _, j, value = parts\n",
    "        yield (int(j), (\"V\", float(value)))"
   ]
  },
  {
   "cell_type": "code",
   "execution_count": 14,
   "metadata": {},
   "outputs": [],
   "source": [
    "def reducer(key, values):\n",
    "    matrix_entries = []\n",
    "    vector_values = {}\n",
    "\n",
    "    for val in values:\n",
    "        if val[0] == \"M\":\n",
    "            matrix_entries.append((val[1], val[2]))  # (j, M[i][j])\n",
    "        elif val[0] == \"V\":\n",
    "            vector_values[val[1]] = val[2]  # Store v[j]\n",
    "\n",
    "    result = 0\n",
    "    for j, mij in matrix_entries:\n",
    "        if j in vector_values:\n",
    "            result += mij * vector_values[j]\n",
    "\n",
    "    yield (key, result)  # (i, y_i)"
   ]
  },
  {
   "cell_type": "code",
   "execution_count": 15,
   "metadata": {},
   "outputs": [
    {
     "name": "stdout",
     "output_type": "stream",
     "text": [
      "[(1, 95)]\n"
     ]
    }
   ],
   "source": [
    "# Define the test case\n",
    "key = 1\n",
    "values = [\n",
    "    (\"M\", 1, 6),  \n",
    "    (\"M\", 2, 13),  \n",
    "    (\"M\", 3, 21),  \n",
    "    (\"V\", 1, 1),  \n",
    "    (\"V\", 2, 2),  \n",
    "    (\"V\", 3, 3)   \n",
    "]\n",
    "\n",
    "# Call the reducer function\n",
    "result = list(reducer(key, values))\n",
    "\n",
    "# Print the results\n",
    "print(result)\n"
   ]
  }
 ],
 "metadata": {
  "kernelspec": {
   "display_name": "Python 3",
   "language": "python",
   "name": "python3"
  },
  "language_info": {
   "codemirror_mode": {
    "name": "ipython",
    "version": 3
   },
   "file_extension": ".py",
   "mimetype": "text/x-python",
   "name": "python",
   "nbconvert_exporter": "python",
   "pygments_lexer": "ipython3",
   "version": "3.12.4"
  }
 },
 "nbformat": 4,
 "nbformat_minor": 2
}
