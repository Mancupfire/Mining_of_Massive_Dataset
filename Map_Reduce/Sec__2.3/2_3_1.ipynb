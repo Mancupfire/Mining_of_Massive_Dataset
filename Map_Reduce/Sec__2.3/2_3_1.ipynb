{
 "cells": [
  {
   "cell_type": "markdown",
   "metadata": {},
   "source": [
    "Exercise 2.3.1 : Design MapReduce algorithms to take a very large file of integers and produce as output:"
   ]
  },
  {
   "cell_type": "markdown",
   "metadata": {},
   "source": [
    "A. The Largest Integer"
   ]
  },
  {
   "cell_type": "code",
   "execution_count": 5,
   "metadata": {},
   "outputs": [],
   "source": [
    "def mapper(_, line):\n",
    "    number = int(line.split()[0])\n",
    "    yield (\"max\", number)\n",
    "\n",
    "def reducer(key, values):\n",
    "    yield (key, max(values))"
   ]
  },
  {
   "cell_type": "code",
   "execution_count": 26,
   "metadata": {},
   "outputs": [],
   "source": [
    "input_data = [\"5\", \"7\", \"1\", \"3\", \"10\"]"
   ]
  },
  {
   "cell_type": "code",
   "execution_count": 27,
   "metadata": {},
   "outputs": [],
   "source": [
    "mapped_values = []\n",
    "\n",
    "for line in input_data:\n",
    "    # Áp dụng hàm mapper cho từng dòng\n",
    "    for result in mapper(None, line):\n",
    "        # Thêm kết quả của hàm mapper vào danh sách mapped_values\n",
    "        mapped_values.append(result)"
   ]
  },
  {
   "cell_type": "code",
   "execution_count": 28,
   "metadata": {},
   "outputs": [],
   "source": [
    "shuffled_data = {}\n",
    "\n",
    "for key, value in mapped_values:\n",
    "    if key not in shuffled_data:\n",
    "        shuffled_data[key] = []\n",
    "    shuffled_data[key].append(value)"
   ]
  },
  {
   "cell_type": "code",
   "execution_count": 29,
   "metadata": {},
   "outputs": [
    {
     "name": "stdout",
     "output_type": "stream",
     "text": [
      "('sum_count', 5.2)\n"
     ]
    }
   ],
   "source": [
    "for key, values in shuffled_data.items():\n",
    "    for result in reducer(key, values):\n",
    "        print(result)"
   ]
  },
  {
   "cell_type": "markdown",
   "metadata": {},
   "source": [
    "B. The Average Of All Integer"
   ]
  },
  {
   "cell_type": "code",
   "execution_count": 40,
   "metadata": {},
   "outputs": [],
   "source": [
    "def mapper(_, line):\n",
    "    number = int(line.strip())\n",
    "    yield (\"sum_count\", (number, 1))\n"
   ]
  },
  {
   "cell_type": "code",
   "execution_count": 41,
   "metadata": {},
   "outputs": [],
   "source": [
    "def reducer(key, values):\n",
    "    total_sum = 0\n",
    "    total_count = 0\n",
    "    for value in values:\n",
    "        total_sum += value[0]\n",
    "        total_count += value[1]\n",
    "    yield (key, total_sum / total_count)"
   ]
  },
  {
   "cell_type": "code",
   "execution_count": 42,
   "metadata": {},
   "outputs": [],
   "source": [
    "mapped_values = []\n",
    "\n",
    "for line in input_data:\n",
    "    # Áp dụng hàm mapper cho từng dòng\n",
    "    for result in mapper(None, line):\n",
    "        # Thêm kết quả của hàm mapper vào danh sách mapped_values\n",
    "        mapped_values.append(result)"
   ]
  },
  {
   "cell_type": "code",
   "execution_count": 43,
   "metadata": {},
   "outputs": [],
   "source": [
    "shuffled_data = {}\n",
    "\n",
    "for key, value in mapped_values:\n",
    "    if key not in shuffled_data:\n",
    "        shuffled_data[key] = []\n",
    "    shuffled_data[key].append(value)"
   ]
  },
  {
   "cell_type": "code",
   "execution_count": 44,
   "metadata": {},
   "outputs": [
    {
     "name": "stdout",
     "output_type": "stream",
     "text": [
      "('sum_count', 5.2)\n"
     ]
    }
   ],
   "source": [
    "for key, values in shuffled_data.items():\n",
    "    for result in reducer(key, values):\n",
    "        print(result)"
   ]
  },
  {
   "cell_type": "markdown",
   "metadata": {},
   "source": [
    "C. Removing Duplicates Integers"
   ]
  },
  {
   "cell_type": "code",
   "execution_count": 45,
   "metadata": {},
   "outputs": [],
   "source": [
    "def mapper(_, line):\n",
    "    number = int(line.strip())\n",
    "    yield (number, None)\n",
    "\n",
    "def reducer(key, _):\n",
    "    yield (key, None)"
   ]
  },
  {
   "cell_type": "code",
   "execution_count": 46,
   "metadata": {},
   "outputs": [],
   "source": [
    "mapped_values = []\n",
    "for line in input_data:\n",
    "    for result in mapper(None, line):\n",
    "        mapped_values.append(result)"
   ]
  },
  {
   "cell_type": "code",
   "execution_count": 47,
   "metadata": {},
   "outputs": [],
   "source": [
    "shuffled_data = {}\n",
    "\n",
    "for key, value in mapped_values:\n",
    "    if key not in shuffled_data:\n",
    "        shuffled_data[key] = []\n",
    "    shuffled_data[key].append(value)"
   ]
  },
  {
   "cell_type": "code",
   "execution_count": 48,
   "metadata": {},
   "outputs": [
    {
     "name": "stdout",
     "output_type": "stream",
     "text": [
      "(5, None)\n",
      "(7, None)\n",
      "(1, None)\n",
      "(3, None)\n",
      "(10, None)\n"
     ]
    }
   ],
   "source": [
    "for key, values in shuffled_data.items():\n",
    "    for result in reducer(key, values):\n",
    "        print(result)"
   ]
  },
  {
   "cell_type": "markdown",
   "metadata": {},
   "source": [
    "D. Counting Distinct Integers"
   ]
  },
  {
   "cell_type": "code",
   "execution_count": 49,
   "metadata": {},
   "outputs": [],
   "source": [
    "def mapper(_, line):\n",
    "    number = int(line.strip())\n",
    "    yield (number, 1)"
   ]
  },
  {
   "cell_type": "code",
   "execution_count": 51,
   "metadata": {},
   "outputs": [],
   "source": [
    "def reducer(key, values):\n",
    "    yield (\"distinct_count\", 1)"
   ]
  },
  {
   "cell_type": "code",
   "execution_count": 55,
   "metadata": {},
   "outputs": [],
   "source": [
    "mapped_values = []\n",
    "for line in input_data:\n",
    "    for result in mapper(None, line):\n",
    "        mapped_values.append(result)"
   ]
  },
  {
   "cell_type": "code",
   "execution_count": 56,
   "metadata": {},
   "outputs": [],
   "source": [
    "shuffled_data = {}\n",
    "for key, value in mapped_values:\n",
    "    if key not in shuffled_data:\n",
    "        shuffled_data[key] = []\n",
    "    shuffled_data[key].append(value)"
   ]
  },
  {
   "cell_type": "code",
   "execution_count": 57,
   "metadata": {},
   "outputs": [
    {
     "name": "stdout",
     "output_type": "stream",
     "text": [
      "Distinct count: 5\n"
     ]
    }
   ],
   "source": [
    "distinct_count = 0\n",
    "for key, values in shuffled_data.items():\n",
    "    for result in reducer(key, values):\n",
    "        distinct_count += result[1]\n",
    "\n",
    "print(\"Distinct count:\", distinct_count)"
   ]
  }
 ],
 "metadata": {
  "kernelspec": {
   "display_name": "Python 3",
   "language": "python",
   "name": "python3"
  },
  "language_info": {
   "codemirror_mode": {
    "name": "ipython",
    "version": 3
   },
   "file_extension": ".py",
   "mimetype": "text/x-python",
   "name": "python",
   "nbconvert_exporter": "python",
   "pygments_lexer": "ipython3",
   "version": "3.12.4"
  }
 },
 "nbformat": 4,
 "nbformat_minor": 2
}
