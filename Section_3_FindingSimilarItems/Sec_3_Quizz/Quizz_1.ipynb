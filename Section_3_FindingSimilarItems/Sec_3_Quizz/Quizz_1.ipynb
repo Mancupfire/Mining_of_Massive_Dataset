{
 "cells": [
  {
   "cell_type": "markdown",
   "metadata": {},
   "source": [
    "Question 1: Here is a matrix representing the signatures of seven columns, C1 through C7."
   ]
  },
  {
   "cell_type": "markdown",
   "metadata": {},
   "source": [
    "![Alt text](Picture_3.png)"
   ]
  },
  {
   "cell_type": "markdown",
   "metadata": {},
   "source": [
    "Suppose we use locality-sensitive hashing with three bands of two rows each. Assume there are enough buckets available that the hash function for each band can be the identity function (i.e., columns hash to the same bucket if and only if they are identical in the band). Find all the candidate pairs, and then identify one of them in the list below."
   ]
  },
  {
   "cell_type": "code",
   "execution_count": 3,
   "metadata": {},
   "outputs": [
    {
     "data": {
      "text/plain": [
       "{'C1': 'R5', 'C2': 'R6', 'C3': 'R4', 'C4': 'R3'}"
      ]
     },
     "execution_count": 3,
     "metadata": {},
     "output_type": "execute_result"
    }
   ],
   "source": [
    "matrix = {\n",
    "    \"C1\": [0, 1, 0, 0, 1, 0],\n",
    "    \"C2\": [1, 0, 1, 0, 0, 1],\n",
    "    \"C3\": [1, 1, 0, 1, 1, 0],\n",
    "    \"C4\": [0, 1, 1, 0, 0, 0],\n",
    "}\n",
    "\n",
    "row_order = [\"R4\", \"R6\", \"R1\", \"R3\", \"R5\", \"R2\"]\n",
    "row_indices = [3, 5, 0, 2, 4, 1]  \n",
    "\n",
    "minhash_values = {}\n",
    "\n",
    "for col in matrix.keys():\n",
    "    for i in row_indices:\n",
    "        if matrix[col][i] == 1:\n",
    "            minhash_values[col] = row_order[row_indices.index(i)]\n",
    "            break\n",
    "\n",
    "minhash_values\n"
   ]
  },
  {
   "cell_type": "code",
   "execution_count": null,
   "metadata": {},
   "outputs": [],
   "source": []
  }
 ],
 "metadata": {
  "kernelspec": {
   "display_name": "Python 3",
   "language": "python",
   "name": "python3"
  },
  "language_info": {
   "codemirror_mode": {
    "name": "ipython",
    "version": 3
   },
   "file_extension": ".py",
   "mimetype": "text/x-python",
   "name": "python",
   "nbconvert_exporter": "python",
   "pygments_lexer": "ipython3",
   "version": "3.12.4"
  }
 },
 "nbformat": 4,
 "nbformat_minor": 2
}
