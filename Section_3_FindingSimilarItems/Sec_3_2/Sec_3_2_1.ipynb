{
 "cells": [
  {
   "cell_type": "markdown",
   "metadata": {},
   "source": [
    "Exercise 3.2.1 : What are the first ten 3-shingles in the first sentence of Section 3.2?"
   ]
  },
  {
   "cell_type": "code",
   "execution_count": 1,
   "metadata": {},
   "outputs": [],
   "source": [
    "first_sentence = (\"The most effective way to represent documents as sets, \"\n",
    "                  \"for the purpose of identifying lexically similar documents \"\n",
    "                  \"is to construct from the document the set of short strings \"\n",
    "                  \"that appear within it.\")"
   ]
  },
  {
   "cell_type": "code",
   "execution_count": 4,
   "metadata": {},
   "outputs": [
    {
     "data": {
      "text/plain": [
       "['The most effective',\n",
       " 'most effective way',\n",
       " 'effective way to',\n",
       " 'way to represent',\n",
       " 'to represent documents',\n",
       " 'represent documents as',\n",
       " 'documents as sets,',\n",
       " 'as sets, for',\n",
       " 'sets, for the',\n",
       " 'for the purpose']"
      ]
     },
     "execution_count": 4,
     "metadata": {},
     "output_type": "execute_result"
    }
   ],
   "source": [
    "words = first_sentence.split()\n",
    "\n",
    "shingles = [' '.join(words[i:i+3]) for i in range(len(words) - 2)]\n",
    "\n",
    "first_ten_shingles = shingles[:10]\n",
    "first_ten_shingles"
   ]
  }
 ],
 "metadata": {
  "kernelspec": {
   "display_name": "Python 3",
   "language": "python",
   "name": "python3"
  },
  "language_info": {
   "codemirror_mode": {
    "name": "ipython",
    "version": 3
   },
   "file_extension": ".py",
   "mimetype": "text/x-python",
   "name": "python",
   "nbconvert_exporter": "python",
   "pygments_lexer": "ipython3",
   "version": "3.12.4"
  }
 },
 "nbformat": 4,
 "nbformat_minor": 2
}
