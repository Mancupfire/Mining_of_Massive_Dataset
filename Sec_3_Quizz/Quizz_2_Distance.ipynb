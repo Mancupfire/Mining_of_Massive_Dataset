{
 "cells": [
  {
   "cell_type": "code",
   "execution_count": 4,
   "metadata": {},
   "outputs": [
    {
     "name": "stdout",
     "output_type": "stream",
     "text": [
      "Jaccard distance vector 0 and vector 1: 0.8571428571428572\n",
      "Jaccard distance vector 0 and vector 2: 1.0\n",
      "Jaccard distance vector 0 and vector 3: 0.7\n",
      "Jaccard distance vector 0 and vector 4: 0.7\n",
      "Jaccard distance vector 1 and vector 2: 0.8571428571428572\n",
      "Jaccard distance vector 1 and vector 3: 0.5555555555555556\n",
      "Jaccard distance vector 1 and vector 4: 0.7\n",
      "Jaccard distance vector 2 and vector 3: 0.5555555555555556\n",
      "Jaccard distance vector 2 and vector 4: 0.5555555555555556\n",
      "Jaccard distance vector 3 and vector 4: 0.19999999999999996\n"
     ]
    }
   ],
   "source": [
    "import numpy as np\n",
    "from collections import Counter\n",
    "\n",
    "vectors = [\n",
    "    np.array([1, 1, 1, 1, 0, 0, 0, 0, 0, 0]),\n",
    "    np.array([0, 1, 0, 0, 1, 0, 0, 1, 0, 1]),\n",
    "    np.array([0, 0, 0, 0, 0, 1, 1, 1, 1, 0]),\n",
    "    np.array([0, 1, 1, 1, 1, 1, 1, 1, 1, 1]),\n",
    "    np.array([1, 0, 1, 1, 1, 1, 1, 1, 1, 1])\n",
    "]\n",
    "\n",
    "def jaccard_distance(v1, v2):\n",
    "    v1 = [int(x) for x in v1]\n",
    "    v2 = [int(x) for x in v2]\n",
    "    \n",
    "    intersection = sum([1 for x, y in zip(v1, v2) if x == y == 1])\n",
    "    union = sum([1 for x, y in zip(v1, v2) if x == 1 or y == 1])\n",
    "    \n",
    "    jaccard_index = intersection / union if union != 0 else 0\n",
    "    \n",
    "    return 1 - jaccard_index\n",
    "\n",
    "distances = {}\n",
    "for i in range(len(vectors)):\n",
    "    for j in range(i + 1, len(vectors)):\n",
    "        distance = jaccard_distance(vectors[i], vectors[j])\n",
    "        distances[(i, j)] = distance\n",
    "\n",
    "for pair, distance in distances.items():\n",
    "    print(f\"Jaccard distance vector {pair[0]} and vector {pair[1]}: {distance}\")\n"
   ]
  },
  {
   "cell_type": "code",
   "execution_count": null,
   "metadata": {},
   "outputs": [],
   "source": []
  },
  {
   "cell_type": "code",
   "execution_count": null,
   "metadata": {},
   "outputs": [],
   "source": []
  },
  {
   "cell_type": "code",
   "execution_count": null,
   "metadata": {},
   "outputs": [],
   "source": []
  }
 ],
 "metadata": {
  "kernelspec": {
   "display_name": "Python 3",
   "language": "python",
   "name": "python3"
  },
  "language_info": {
   "codemirror_mode": {
    "name": "ipython",
    "version": 3
   },
   "file_extension": ".py",
   "mimetype": "text/x-python",
   "name": "python",
   "nbconvert_exporter": "python",
   "pygments_lexer": "ipython3",
   "version": "3.12.4"
  }
 },
 "nbformat": 4,
 "nbformat_minor": 2
}
