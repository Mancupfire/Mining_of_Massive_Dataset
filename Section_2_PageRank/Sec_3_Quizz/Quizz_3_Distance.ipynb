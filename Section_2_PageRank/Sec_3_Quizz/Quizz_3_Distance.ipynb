{
 "cells": [
  {
   "cell_type": "markdown",
   "metadata": {},
   "source": [
    "Question 3: Find the set of 2-shingles for the \"document\":\n",
    "        ABRACADABRA\n",
    "and also for the \"document\":\n",
    "        BRICABRAC\n",
    "Answer the following questions:\n",
    "    How many 2-shingles does ABRACADABRA have?\n",
    "    How many 2-shingles does BRICABRAC have?\n",
    "    How many 2-shingles do they have in common?\n",
    "    What is the Jaccard similarity between the two documents\"?\n",
    "\n"
   ]
  },
  {
   "cell_type": "code",
   "execution_count": 7,
   "metadata": {},
   "outputs": [],
   "source": [
    "import numpy as np\n",
    "from collections import Counter\n",
    "\n",
    "vectors = [\n",
    "    np.array([1, 1, 1, 1, 0, 0, 0, 0, 0, 0]),\n",
    "    np.array([0, 1, 0, 0, 1, 0, 0, 1, 0, 1]),\n",
    "    np.array([0, 0, 0, 0, 0, 1, 1, 1, 1, 0]),\n",
    "    np.array([0, 1, 1, 1, 1, 1, 1, 1, 1, 1]),\n",
    "    np.array([1, 0, 1, 1, 1, 1, 1, 1, 1, 1])\n",
    "]\n"
   ]
  },
  {
   "cell_type": "code",
   "execution_count": 8,
   "metadata": {},
   "outputs": [],
   "source": [
    "def manhattan_distance(a, b):\n",
    "    return np.sum(np.abs(a - b))\n"
   ]
  },
  {
   "cell_type": "code",
   "execution_count": 9,
   "metadata": {},
   "outputs": [],
   "source": [
    "distances = []\n",
    "for i in range(len(vectors)):\n",
    "    for j in range(i+1, len(vectors)):\n",
    "        distance = manhattan_distance(vectors[i], vectors[j])\n",
    "        distances.append(distance)"
   ]
  },
  {
   "cell_type": "code",
   "execution_count": 10,
   "metadata": {},
   "outputs": [
    {
     "name": "stdout",
     "output_type": "stream",
     "text": [
      "Pairwise Manhattan distances: [6, 8, 7, 7, 6, 5, 7, 5, 5, 2]\n"
     ]
    }
   ],
   "source": [
    "print(\"Pairwise Manhattan distances:\", distances)\n",
    "\n",
    "distance_counts = Counter(distances)"
   ]
  },
  {
   "cell_type": "code",
   "execution_count": 6,
   "metadata": {},
   "outputs": [
    {
     "name": "stdout",
     "output_type": "stream",
     "text": [
      "Counter({7: 3, 5: 3, 6: 2, 8: 1, 2: 1})\n"
     ]
    }
   ],
   "source": [
    "print(distance_counts)"
   ]
  },
  {
   "cell_type": "code",
   "execution_count": null,
   "metadata": {},
   "outputs": [],
   "source": []
  }
 ],
 "metadata": {
  "kernelspec": {
   "display_name": "Python 3",
   "language": "python",
   "name": "python3"
  },
  "language_info": {
   "codemirror_mode": {
    "name": "ipython",
    "version": 3
   },
   "file_extension": ".py",
   "mimetype": "text/x-python",
   "name": "python",
   "nbconvert_exporter": "python",
   "pygments_lexer": "ipython3",
   "version": "3.12.4"
  }
 },
 "nbformat": 4,
 "nbformat_minor": 2
}
