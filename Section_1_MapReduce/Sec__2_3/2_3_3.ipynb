{
 "cells": [
  {
   "cell_type": "markdown",
   "metadata": {},
   "source": [
    "Exercise 2.3.3: In the form of relational algebra implemented in SQL, relations are not sets, but bags; that is, tuples are allowed to appear more than once. There are extended definitions of union, intersection, and difference for bags, which we shall define below. Write MapReduce algorithms for computing the following operations on bags R and S:\n"
   ]
  },
  {
   "cell_type": "markdown",
   "metadata": {},
   "source": [
    "A. Bag Union"
   ]
  },
  {
   "cell_type": "code",
   "execution_count": 1,
   "metadata": {},
   "outputs": [],
   "source": [
    "def mapper(_, line):\n",
    "    relation, tuple_id, count = line.strip().split()\n",
    "    yield (relation, int(count))"
   ]
  },
  {
   "cell_type": "code",
   "execution_count": 2,
   "metadata": {},
   "outputs": [],
   "source": [
    "def reducer(relation, counts):  \n",
    "    yield (relation, sum(counts))"
   ]
  },
  {
   "cell_type": "code",
   "execution_count": 26,
   "metadata": {},
   "outputs": [],
   "source": [
    "# Each line represent relation, tuple_id, count\n",
    "\n",
    "input_data = [\n",
    "    \"R Apple 1\",\n",
    "    \"R Banana 2\",\n",
    "    \"S Grape 3\",\n",
    "    \"S Apple 4\",\n",
    "    \"S Banana 5\"\n",
    "]"
   ]
  },
  {
   "cell_type": "code",
   "execution_count": 27,
   "metadata": {},
   "outputs": [],
   "source": [
    "mapped_values = []\n",
    "for line in input_data:\n",
    "    for result in mapper(None, line):\n",
    "        mapped_values.append(result)"
   ]
  },
  {
   "cell_type": "code",
   "execution_count": 28,
   "metadata": {},
   "outputs": [],
   "source": [
    "shuffled_data = {}\n",
    "for key, value in mapped_values:\n",
    "    if key not in shuffled_data:\n",
    "        shuffled_data[key] = []\n",
    "    shuffled_data[key].append(value)"
   ]
  },
  {
   "cell_type": "code",
   "execution_count": 31,
   "metadata": {},
   "outputs": [],
   "source": [
    "final_output = []\n",
    "for key, values in shuffled_data.items():\n",
    "    for result in reducer(key, values):\n",
    "        final_output.append(result)"
   ]
  },
  {
   "cell_type": "code",
   "execution_count": 32,
   "metadata": {},
   "outputs": [
    {
     "name": "stdout",
     "output_type": "stream",
     "text": [
      "bag Union result:  [('R', 3), ('S', 12)]\n"
     ]
    }
   ],
   "source": [
    "print(\"bag Union result: \", final_output)\n"
   ]
  },
  {
   "cell_type": "markdown",
   "metadata": {},
   "source": [
    "B. Bag Intersection"
   ]
  },
  {
   "cell_type": "code",
   "execution_count": 73,
   "metadata": {},
   "outputs": [],
   "source": [
    "def mapper(_, line):\n",
    "    relation, tuple_id, count = line.strip().split()\n",
    "    yield (tuple_id, (relation, int(count)))"
   ]
  },
  {
   "cell_type": "code",
   "execution_count": 74,
   "metadata": {},
   "outputs": [],
   "source": [
    "def reducer(tuple_id, values):\n",
    "    count_R = 0\n",
    "    count_S = 0\n",
    "\n",
    "    for relation, count in values:\n",
    "        if relation == 'R':\n",
    "            count_R += count\n",
    "        elif relation == 'S':\n",
    "            count_S += count\n",
    "    \n",
    "    if count_R > 0 and count_S > 0:\n",
    "        yield (tuple_id, min(count_R, count_S))"
   ]
  },
  {
   "cell_type": "code",
   "execution_count": 75,
   "metadata": {},
   "outputs": [],
   "source": [
    "new_data = [\n",
    "    \"R Banana 2\",\n",
    "    \"R Grape 5\",\n",
    "    \"R Grape 3\",\n",
    "    \"S Apple 1\",\n",
    "    \"S Banana 4\"\n",
    "]"
   ]
  },
  {
   "cell_type": "code",
   "execution_count": 76,
   "metadata": {},
   "outputs": [
    {
     "name": "stdout",
     "output_type": "stream",
     "text": [
      "Bag Intersection Result: [('Banana', 2)]\n"
     ]
    }
   ],
   "source": [
    "from collections import defaultdict\n",
    "\n",
    "def run_mapreduce(input_data):\n",
    "    # MAP PHASE\n",
    "    mapped_values = []\n",
    "    for line in input_data:\n",
    "        for result in mapper(None, line):\n",
    "            mapped_values.append(result)\n",
    "\n",
    "    # SHUFFLE PHASE (Grouping Keys)\n",
    "    shuffled_data = defaultdict(list)\n",
    "    for key, value in mapped_values:\n",
    "        shuffled_data[key].append(value)\n",
    "\n",
    "    # REDUCE PHASE\n",
    "    final_output = []\n",
    "    for key, values in shuffled_data.items():\n",
    "        for result in reducer(key, values):\n",
    "            final_output.append(result)\n",
    "\n",
    "    return final_output\n",
    "\n",
    "if __name__ == \"__main__\":\n",
    "    output = run_mapreduce(new_data)\n",
    "\n",
    "    print(\"Bag Intersection Result:\", output)\n"
   ]
  }
 ],
 "metadata": {
  "kernelspec": {
   "display_name": "Python 3",
   "language": "python",
   "name": "python3"
  },
  "language_info": {
   "codemirror_mode": {
    "name": "ipython",
    "version": 3
   },
   "file_extension": ".py",
   "mimetype": "text/x-python",
   "name": "python",
   "nbconvert_exporter": "python",
   "pygments_lexer": "ipython3",
   "version": "3.12.4"
  }
 },
 "nbformat": 4,
 "nbformat_minor": 2
}
